{
 "cells": [
  {
   "cell_type": "code",
   "execution_count": 1,
   "id": "e1e17eec",
   "metadata": {},
   "outputs": [
    {
     "data": {
      "text/plain": [
       "<matplotlib.pyplot._IonContext at 0x7f80804bf0d0>"
      ]
     },
     "execution_count": 1,
     "metadata": {},
     "output_type": "execute_result"
    }
   ],
   "source": [
    "from __future__ import print_function, division\n",
    "\n",
    "import torch\n",
    "import torch.nn as nn\n",
    "import torch.optim as optim\n",
    "from torch.optim import lr_scheduler\n",
    "import torch.backends.cudnn as cudnn\n",
    "import numpy as np\n",
    "import torchvision\n",
    "from torchvision import datasets, models, transforms\n",
    "import matplotlib.pyplot as plt\n",
    "import time\n",
    "import os\n",
    "import copy\n",
    "from torch.utils.data import Dataset, DataLoader\n",
    "import cv2\n",
    "import pandas as pd\n",
    "from PIL import Image\n",
    "\n",
    "cudnn.benchmark = True\n",
    "plt.ion()   # interactive mode"
   ]
  },
  {
   "cell_type": "code",
   "execution_count": 2,
   "id": "e6fcce9d",
   "metadata": {},
   "outputs": [],
   "source": [
    "def fft(img):\n",
    "    spectrum = []\n",
    "    for i in range(3):\n",
    "        f = np.fft.fft2(img[:,:,i])\n",
    "        fshift = np.fft.fftshift(f)\n",
    "        magnitude_spectrum = np.abs(fshift)\n",
    "        magnitude_spectrum  = np.where(magnitude_spectrum > 1.0e-10, magnitude_spectrum, 1.0e-10)\n",
    "        magnitude_spectrum = 20*np.log(magnitude_spectrum)\n",
    "        spectrum.append(magnitude_spectrum)\n",
    "    spectrum = np.array(spectrum)\n",
    "    # print(spectrum.shape)\n",
    "    return spectrum"
   ]
  },
  {
   "cell_type": "code",
   "execution_count": 3,
   "id": "2064968f",
   "metadata": {},
   "outputs": [],
   "source": [
    "class DeepfakeSatelliteImageDataset(Dataset):\n",
    "    \"\"\"Deepfake satellite image dataset.\"\"\"\n",
    "\n",
    "    def __init__(self, csv_file, mode, transform=None):\n",
    "        \"\"\"\n",
    "        Args:\n",
    "            csv_file (string): Path to the csv file.\n",
    "            mode (string): \"train\", \"test\" or \"val\".\n",
    "            transform (callable, optional): Optional transform to be applied\n",
    "                on a sample.\n",
    "        \"\"\"\n",
    "        self.images = pd.read_csv(csv_file)\n",
    "        self.images = self.images[self.images[\"SET\"] == mode]\n",
    "        self.mode = mode\n",
    "        self.transform = transform\n",
    "\n",
    "    def __len__(self):\n",
    "        return len(self.images)\n",
    "\n",
    "    def __getitem__(self, idx):\n",
    "        img_name = os.path.join(self.images.iloc[idx][\"FP\"])\n",
    "        image = cv2.imread(img_name)[:,:,::-1]\n",
    "        image = fft(image)\n",
    "        image = torch.tensor(image, dtype=torch.float32)\n",
    "        if self.transform:\n",
    "            image = self.transform(image)\n",
    "        return image, int(self.images.iloc[idx][\"isFake\"])"
   ]
  },
  {
   "cell_type": "code",
   "execution_count": 4,
   "id": "3f95a1a9",
   "metadata": {},
   "outputs": [],
   "source": [
    "# Data augmentation and normalization for training\n",
    "# Just normalization for validation\n",
    "data_transforms = {\n",
    "    'train': transforms.Compose([\n",
    "        transforms.Resize(244),\n",
    "        transforms.Normalize([0.485, 0.456, 0.406], [0.229, 0.224, 0.225])\n",
    "    ]),\n",
    "    'val': transforms.Compose([\n",
    "        transforms.Resize(244),\n",
    "        transforms.Normalize([0.485, 0.456, 0.406], [0.229, 0.224, 0.225])\n",
    "    ]),\n",
    "    'test': transforms.Compose([\n",
    "        transforms.Resize(244),\n",
    "        transforms.Normalize([0.485, 0.456, 0.406], [0.229, 0.224, 0.225])\n",
    "    ]),\n",
    "}"
   ]
  },
  {
   "cell_type": "code",
   "execution_count": 5,
   "id": "ebed0387",
   "metadata": {},
   "outputs": [],
   "source": [
    "csv_file = \"../split/data_10_10_80.csv\"\n",
    "image_datasets = {x: DeepfakeSatelliteImageDataset(csv_file=csv_file, mode=x, transform=data_transforms[x])\n",
    "                  for x in ['train', 'val', 'test']}\n",
    "dataloaders = {x: torch.utils.data.DataLoader(image_datasets[x], batch_size=32,\n",
    "                                             shuffle=True, num_workers=16)\n",
    "              for x in ['train', 'val', 'test']}\n",
    "dataset_sizes = {x: len(image_datasets[x]) for x in ['train', 'val', 'test']}\n",
    "\n",
    "device = torch.device(\"cuda:0\" if torch.cuda.is_available() else \"cpu\")"
   ]
  },
  {
   "cell_type": "code",
   "execution_count": 6,
   "id": "59a55f68",
   "metadata": {},
   "outputs": [
    {
     "name": "stdout",
     "output_type": "stream",
     "text": [
      "806\n",
      "806\n",
      "6452\n"
     ]
    }
   ],
   "source": [
    "print(len(image_datasets['train']))\n",
    "print(len(image_datasets['val']))\n",
    "print(len(image_datasets['test']))"
   ]
  },
  {
   "cell_type": "code",
   "execution_count": 7,
   "id": "fac14f7e",
   "metadata": {},
   "outputs": [],
   "source": [
    "def imshow(inp, title=None):\n",
    "    \"\"\"Imshow for Tensor.\"\"\"\n",
    "    inp = inp.numpy().transpose((1, 2, 0))\n",
    "    mean = np.array([0.485, 0.456, 0.406])\n",
    "    std = np.array([0.229, 0.224, 0.225])\n",
    "    inp = std * inp + mean\n",
    "#     inp = np.clip(inp, 0, 1)\n",
    "    plt.imshow(inp[:,:,0])\n",
    "    if title is not None:\n",
    "        plt.title(title)\n",
    "    plt.pause(0.001)  # pause a bit so that plots are updated\n",
    "\n",
    "class_names = ['real', 'fake']"
   ]
  },
  {
   "cell_type": "code",
   "execution_count": 8,
   "id": "0c106222",
   "metadata": {},
   "outputs": [
    {
     "data": {
      "image/png": "[encoded data removed]",
      "text/plain": [
       "<Figure size 432x288 with 1 Axes>"
      ]
     },
     "metadata": {
      "needs_background": "light"
     },
     "output_type": "display_data"
    }
   ],
   "source": [
    "# Get a batch of training data\n",
    "inputs, classes = next(iter(dataloaders['train']))\n",
    "\n",
    "# Make a grid from batch\n",
    "out = torchvision.utils.make_grid(inputs[:4])\n",
    "\n",
    "imshow(out, title=[class_names[x] for x in classes[:4]])"
   ]
  },
  {
   "cell_type": "code",
   "execution_count": 9,
   "id": "3d975499",
   "metadata": {},
   "outputs": [],
   "source": [
    "log_path = \"records/resnet18-spec/\" + csv_file.split(\"/\")[-1].replace(\".csv\", \".txt\")\n",
    "os.makedirs(\"records/resnet18-spec/\", exist_ok=True)"
   ]
  },
  {
   "cell_type": "code",
   "execution_count": 10,
   "id": "4938c57a",
   "metadata": {},
   "outputs": [],
   "source": [
    "def train_model(model, criterion, optimizer, scheduler, num_epochs=25):\n",
    "    since = time.time()\n",
    "\n",
    "    best_model_wts = copy.deepcopy(model.state_dict())\n",
    "    best_acc = 0.0\n",
    "\n",
    "    for epoch in range(num_epochs):\n",
    "        print('Epoch {}/{}'.format(epoch, num_epochs - 1))\n",
    "        print('-' * 10)\n",
    "        with open(log_path, 'a') as f:\n",
    "            f.write('Epoch {}/{}\\n'.format(epoch, num_epochs - 1))\n",
    "\n",
    "        # Each epoch has a training and validation phase\n",
    "        for phase in ['train', 'val']:\n",
    "            if phase == 'train':\n",
    "                model.train()  # Set model to training mode\n",
    "            else:\n",
    "                model.eval()   # Set model to evaluate mode\n",
    "\n",
    "            running_loss = 0.0\n",
    "            running_corrects = 0\n",
    "\n",
    "            # Iterate over data.\n",
    "            for inputs, labels in dataloaders[phase]:\n",
    "                inputs = inputs.to(device)\n",
    "                labels = labels.to(device)\n",
    "\n",
    "                # zero the parameter gradients\n",
    "                optimizer.zero_grad()\n",
    "\n",
    "                # forward\n",
    "                # track history if only in train\n",
    "                with torch.set_grad_enabled(phase == 'train'):\n",
    "                    outputs = model(inputs)\n",
    "                    _, preds = torch.max(outputs, 1)\n",
    "                    loss = criterion(outputs, labels)\n",
    "\n",
    "                    # backward + optimize only if in training phase\n",
    "                    if phase == 'train':\n",
    "                        loss.backward()\n",
    "                        optimizer.step()\n",
    "\n",
    "                # statistics\n",
    "                running_loss += loss.item() * inputs.size(0)\n",
    "                running_corrects += torch.sum(preds == labels.data)\n",
    "            if phase == 'train':\n",
    "                scheduler.step()\n",
    "\n",
    "            epoch_loss = running_loss / dataset_sizes[phase]\n",
    "            epoch_acc = running_corrects.double() / dataset_sizes[phase]\n",
    "\n",
    "            print('{} Loss: {:.4f} Acc: {:.4f}'.format(\n",
    "                phase, epoch_loss, epoch_acc))\n",
    "            with open(log_path, 'a') as f:\n",
    "                f.write('{} Loss: {:.4f} Acc: {:.4f}\\n'.format(phase, epoch_loss, epoch_acc))\n",
    "                \n",
    "            # deep copy the model\n",
    "            if phase == 'val' and epoch_acc > best_acc:\n",
    "                best_acc = epoch_acc\n",
    "                best_model_wts = copy.deepcopy(model.state_dict())\n",
    "\n",
    "        print()\n",
    "\n",
    "    time_elapsed = time.time() - since\n",
    "    print('Training complete in {:.0f}m {:.0f}s'.format(\n",
    "        time_elapsed // 60, time_elapsed % 60))\n",
    "    with open(log_path, 'a') as f:\n",
    "        f.write('Training complete in {:.0f}m {:.0f}s\\n'.format(time_elapsed // 60, time_elapsed % 60))\n",
    "    print('Best val Acc: {:4f}'.format(best_acc))\n",
    "    with open(log_path, 'a') as f:\n",
    "        f.write('Best val Acc: {:4f}\\n'.format(best_acc))\n",
    "\n",
    "    # load best model weights\n",
    "    model.load_state_dict(best_model_wts)\n",
    "    return model"
   ]
  },
  {
   "cell_type": "code",
   "execution_count": 11,
   "id": "f428e2e3",
   "metadata": {
    "scrolled": true
   },
   "outputs": [
    {
     "name": "stdout",
     "output_type": "stream",
     "text": [
      "Epoch 0/49\n",
      "----------\n",
      "train Loss: 0.4188 Acc: 0.7841\n",
      "val Loss: 0.1311 Acc: 0.9826\n",
      "\n",
      "Epoch 1/49\n",
      "----------\n",
      "train Loss: 0.0834 Acc: 0.9764\n",
      "val Loss: 0.0997 Acc: 0.9715\n",
      "\n",
      "Epoch 2/49\n",
      "----------\n",
      "train Loss: 0.0173 Acc: 1.0000\n",
      "val Loss: 0.0274 Acc: 0.9926\n",
      "\n",
      "Epoch 3/49\n",
      "----------\n",
      "train Loss: 0.0125 Acc: 0.9988\n",
      "val Loss: 0.0453 Acc: 0.9913\n",
      "\n",
      "Epoch 4/49\n",
      "----------\n",
      "train Loss: 0.0146 Acc: 1.0000\n",
      "val Loss: 0.0459 Acc: 0.9851\n",
      "\n",
      "Epoch 5/49\n",
      "----------\n",
      "train Loss: 0.0128 Acc: 0.9975\n",
      "val Loss: 0.1176 Acc: 0.9628\n",
      "\n",
      "Epoch 6/49\n",
      "----------\n",
      "train Loss: 0.0149 Acc: 0.9975\n",
      "val Loss: 0.0201 Acc: 0.9926\n",
      "\n",
      "Epoch 7/49\n",
      "----------\n",
      "train Loss: 0.0053 Acc: 1.0000\n",
      "val Loss: 0.0167 Acc: 0.9938\n",
      "\n",
      "Epoch 8/49\n",
      "----------\n",
      "train Loss: 0.0074 Acc: 1.0000\n",
      "val Loss: 0.0150 Acc: 0.9950\n",
      "\n",
      "Epoch 9/49\n",
      "----------\n",
      "train Loss: 0.0049 Acc: 1.0000\n",
      "val Loss: 0.0187 Acc: 0.9926\n",
      "\n",
      "Epoch 10/49\n",
      "----------\n",
      "train Loss: 0.0050 Acc: 1.0000\n",
      "val Loss: 0.0147 Acc: 0.9950\n",
      "\n",
      "Epoch 11/49\n",
      "----------\n",
      "train Loss: 0.0051 Acc: 1.0000\n",
      "val Loss: 0.0159 Acc: 0.9926\n",
      "\n",
      "Epoch 12/49\n",
      "----------\n",
      "train Loss: 0.0062 Acc: 1.0000\n",
      "val Loss: 0.0192 Acc: 0.9926\n",
      "\n",
      "Epoch 13/49\n",
      "----------\n",
      "train Loss: 0.0047 Acc: 1.0000\n",
      "val Loss: 0.0144 Acc: 0.9950\n",
      "\n",
      "Epoch 14/49\n",
      "----------\n",
      "train Loss: 0.0084 Acc: 0.9988\n",
      "val Loss: 0.0147 Acc: 0.9950\n",
      "\n",
      "Epoch 15/49\n",
      "----------\n",
      "train Loss: 0.0045 Acc: 1.0000\n",
      "val Loss: 0.0182 Acc: 0.9926\n",
      "\n",
      "Epoch 16/49\n",
      "----------\n",
      "train Loss: 0.0067 Acc: 1.0000\n",
      "val Loss: 0.0141 Acc: 0.9950\n",
      "\n",
      "Epoch 17/49\n",
      "----------\n",
      "train Loss: 0.0050 Acc: 1.0000\n",
      "val Loss: 0.0190 Acc: 0.9926\n",
      "\n",
      "Epoch 18/49\n",
      "----------\n",
      "train Loss: 0.0036 Acc: 1.0000\n",
      "val Loss: 0.0191 Acc: 0.9926\n",
      "\n",
      "Epoch 19/49\n",
      "----------\n",
      "train Loss: 0.0105 Acc: 0.9988\n",
      "val Loss: 0.0164 Acc: 0.9950\n",
      "\n",
      "Epoch 20/49\n",
      "----------\n",
      "train Loss: 0.0088 Acc: 0.9988\n",
      "val Loss: 0.0169 Acc: 0.9926\n",
      "\n",
      "Epoch 21/49\n",
      "----------\n",
      "train Loss: 0.0072 Acc: 0.9975\n",
      "val Loss: 0.0140 Acc: 0.9950\n",
      "\n",
      "Epoch 22/49\n",
      "----------\n",
      "train Loss: 0.0067 Acc: 1.0000\n",
      "val Loss: 0.0150 Acc: 0.9950\n",
      "\n",
      "Epoch 23/49\n",
      "----------\n",
      "train Loss: 0.0050 Acc: 0.9988\n",
      "val Loss: 0.0183 Acc: 0.9926\n",
      "\n",
      "Epoch 24/49\n",
      "----------\n",
      "train Loss: 0.0080 Acc: 0.9975\n",
      "val Loss: 0.0140 Acc: 0.9950\n",
      "\n",
      "Epoch 25/49\n",
      "----------\n",
      "train Loss: 0.0049 Acc: 1.0000\n",
      "val Loss: 0.0172 Acc: 0.9926\n",
      "\n",
      "Epoch 26/49\n",
      "----------\n",
      "train Loss: 0.0032 Acc: 1.0000\n",
      "val Loss: 0.0188 Acc: 0.9926\n",
      "\n",
      "Epoch 27/49\n",
      "----------\n",
      "train Loss: 0.0148 Acc: 0.9963\n",
      "val Loss: 0.0145 Acc: 0.9950\n",
      "\n",
      "Epoch 28/49\n",
      "----------\n",
      "train Loss: 0.0060 Acc: 0.9988\n",
      "val Loss: 0.0154 Acc: 0.9938\n",
      "\n",
      "Epoch 29/49\n",
      "----------\n",
      "train Loss: 0.0049 Acc: 1.0000\n",
      "val Loss: 0.0165 Acc: 0.9926\n",
      "\n",
      "Epoch 30/49\n",
      "----------\n",
      "train Loss: 0.0087 Acc: 0.9975\n",
      "val Loss: 0.0150 Acc: 0.9950\n",
      "\n",
      "Epoch 31/49\n",
      "----------\n",
      "train Loss: 0.0054 Acc: 1.0000\n",
      "val Loss: 0.0158 Acc: 0.9938\n",
      "\n",
      "Epoch 32/49\n",
      "----------\n",
      "train Loss: 0.0047 Acc: 1.0000\n",
      "val Loss: 0.0144 Acc: 0.9950\n",
      "\n",
      "Epoch 33/49\n",
      "----------\n",
      "train Loss: 0.0062 Acc: 0.9988\n",
      "val Loss: 0.0204 Acc: 0.9926\n",
      "\n",
      "Epoch 34/49\n",
      "----------\n",
      "train Loss: 0.0047 Acc: 0.9988\n",
      "val Loss: 0.0144 Acc: 0.9950\n",
      "\n",
      "Epoch 35/49\n",
      "----------\n",
      "train Loss: 0.0055 Acc: 1.0000\n",
      "val Loss: 0.0185 Acc: 0.9926\n",
      "\n",
      "Epoch 36/49\n",
      "----------\n",
      "train Loss: 0.0034 Acc: 1.0000\n",
      "val Loss: 0.0170 Acc: 0.9926\n",
      "\n",
      "Epoch 37/49\n",
      "----------\n",
      "train Loss: 0.0090 Acc: 0.9988\n",
      "val Loss: 0.0228 Acc: 0.9926\n",
      "\n",
      "Epoch 38/49\n",
      "----------\n",
      "train Loss: 0.0067 Acc: 0.9988\n",
      "val Loss: 0.0165 Acc: 0.9926\n",
      "\n",
      "Epoch 39/49\n",
      "----------\n",
      "train Loss: 0.0052 Acc: 1.0000\n",
      "val Loss: 0.0210 Acc: 0.9926\n",
      "\n",
      "Epoch 40/49\n",
      "----------\n",
      "train Loss: 0.0053 Acc: 1.0000\n",
      "val Loss: 0.0203 Acc: 0.9926\n",
      "\n",
      "Epoch 41/49\n",
      "----------\n",
      "train Loss: 0.0030 Acc: 1.0000\n",
      "val Loss: 0.0144 Acc: 0.9950\n",
      "\n",
      "Epoch 42/49\n",
      "----------\n",
      "train Loss: 0.0052 Acc: 1.0000\n",
      "val Loss: 0.0200 Acc: 0.9926\n",
      "\n",
      "Epoch 43/49\n",
      "----------\n",
      "train Loss: 0.0056 Acc: 1.0000\n",
      "val Loss: 0.0194 Acc: 0.9926\n",
      "\n",
      "Epoch 44/49\n",
      "----------\n",
      "train Loss: 0.0055 Acc: 1.0000\n",
      "val Loss: 0.0184 Acc: 0.9926\n",
      "\n",
      "Epoch 45/49\n",
      "----------\n",
      "train Loss: 0.0035 Acc: 1.0000\n",
      "val Loss: 0.0192 Acc: 0.9926\n",
      "\n",
      "Epoch 46/49\n",
      "----------\n",
      "train Loss: 0.0101 Acc: 0.9988\n",
      "val Loss: 0.0216 Acc: 0.9926\n",
      "\n",
      "Epoch 47/49\n",
      "----------\n",
      "train Loss: 0.0045 Acc: 1.0000\n",
      "val Loss: 0.0189 Acc: 0.9926\n",
      "\n",
      "Epoch 48/49\n",
      "----------\n",
      "train Loss: 0.0060 Acc: 1.0000\n",
      "val Loss: 0.0174 Acc: 0.9926\n",
      "\n",
      "Epoch 49/49\n",
      "----------\n",
      "train Loss: 0.0070 Acc: 1.0000\n",
      "val Loss: 0.0204 Acc: 0.9926\n",
      "\n",
      "Training complete in 2m 55s\n",
      "Best val Acc: 0.995037\n"
     ]
    }
   ],
   "source": [
    "model_ft = models.resnet18(pretrained=True)\n",
    "num_ftrs = model_ft.fc.in_features\n",
    "# Here the size of each output sample is set to 2.\n",
    "# Alternatively, it can be generalized to nn.Linear(num_ftrs, len(class_names)).\n",
    "model_ft.fc = nn.Linear(num_ftrs, 2)\n",
    "\n",
    "model_ft = model_ft.to(device)\n",
    "\n",
    "criterion = nn.CrossEntropyLoss()\n",
    "\n",
    "# Observe that all parameters are being optimized\n",
    "optimizer_ft = optim.SGD(model_ft.parameters(), lr=0.001, momentum=0.9)\n",
    "\n",
    "# Decay LR by a factor of 0.1 every 7 epochs\n",
    "exp_lr_scheduler = lr_scheduler.StepLR(optimizer_ft, step_size=7, gamma=0.1)\n",
    "\n",
    "model_ft = train_model(model_ft, criterion, optimizer_ft, exp_lr_scheduler, num_epochs=50)"
   ]
  },
  {
   "cell_type": "code",
   "execution_count": 12,
   "id": "27d55e13",
   "metadata": {},
   "outputs": [],
   "source": [
    "best_state_dict = model_ft.state_dict()\n",
    "save_path = \"records/resnet18-spec/\" + csv_file.split(\"/\")[-1].replace(\"csv\", \"ckpt\")\n",
    "torch.save(best_state_dict, save_path)"
   ]
  },
  {
   "cell_type": "code",
   "execution_count": 13,
   "id": "e4a19819",
   "metadata": {},
   "outputs": [],
   "source": [
    "def visualize_model(model, num_images=6):\n",
    "    was_training = model.training\n",
    "    model.eval()\n",
    "    images_so_far = 0\n",
    "    fig = plt.figure()\n",
    "\n",
    "    with torch.no_grad():\n",
    "        for i, (inputs, labels) in enumerate(dataloaders['val']):\n",
    "            inputs = inputs.to(device)\n",
    "            labels = labels.to(device)\n",
    "\n",
    "            outputs = model(inputs)\n",
    "            _, preds = torch.max(outputs, 1)\n",
    "\n",
    "            for j in range(inputs.size()[0]):\n",
    "                images_so_far += 1\n",
    "                ax = plt.subplot(num_images//2, 2, images_so_far)\n",
    "                ax.axis('off')\n",
    "                ax.set_title('predicted: {}'.format(class_names[preds[j]]))\n",
    "                imshow(inputs.cpu().data[j])\n",
    "\n",
    "                if images_so_far == num_images:\n",
    "                    model.train(mode=was_training)\n",
    "                    return\n",
    "        model.train(mode=was_training)"
   ]
  },
  {
   "cell_type": "code",
   "execution_count": 14,
   "id": "186c1dd6",
   "metadata": {
    "scrolled": false
   },
   "outputs": [
    {
     "data": {
      "image/png": "[encoded data removed]",
      "text/plain": [
       "<Figure size 432x288 with 1 Axes>"
      ]
     },
     "metadata": {
      "needs_background": "light"
     },
     "output_type": "display_data"
    },
    {
     "data": {
      "image/png": "[encoded data removed]",
      "text/plain": [
       "<Figure size 432x288 with 1 Axes>"
      ]
     },
     "metadata": {
      "needs_background": "light"
     },
     "output_type": "display_data"
    },
    {
     "data": {
      "image/png": "[encoded data removed]",
      "text/plain": [
       "<Figure size 432x288 with 1 Axes>"
      ]
     },
     "metadata": {
      "needs_background": "light"
     },
     "output_type": "display_data"
    },
    {
     "data": {
      "image/png": "[encoded data removed]",
      "text/plain": [
       "<Figure size 432x288 with 1 Axes>"
      ]
     },
     "metadata": {
      "needs_background": "light"
     },
     "output_type": "display_data"
    },
    {
     "data": {
      "image/png": "[encoded data removed]",
      "text/plain": [
       "<Figure size 432x288 with 1 Axes>"
      ]
     },
     "metadata": {
      "needs_background": "light"
     },
     "output_type": "display_data"
    },
    {
     "data": {
      "image/png": "[encoded data removed]",
      "text/plain": [
       "<Figure size 432x288 with 1 Axes>"
      ]
     },
     "metadata": {
      "needs_background": "light"
     },
     "output_type": "display_data"
    }
   ],
   "source": [
    "visualize_model(model_ft)"
   ]
  },
  {
   "cell_type": "markdown",
   "id": "95dcb7a6",
   "metadata": {},
   "source": [
    "### Test"
   ]
  },
  {
   "cell_type": "code",
   "execution_count": 15,
   "id": "30fa5b2c",
   "metadata": {
    "scrolled": false
   },
   "outputs": [
    {
     "name": "stdout",
     "output_type": "stream",
     "text": [
      "Test Error: \n",
      " Accuracy: 99.6%, Avg loss: 0.011454 \n",
      "\n",
      "[0.9964357663102432, 0.9928968499073502, 1.0]\n",
      "3215 3237\n"
     ]
    }
   ],
   "source": [
    "from sklearn.metrics import f1_score\n",
    "from sklearn.metrics import precision_score\n",
    "from sklearn.metrics import recall_score\n",
    "def test(dataloader, model, loss_fn):\n",
    "    size = len(dataloader.dataset)\n",
    "    num_batches = len(dataloader)\n",
    "    model.eval()\n",
    "    test_loss, correct = 0, 0\n",
    "    y_true = []\n",
    "    y_pred = []\n",
    "    with torch.no_grad():\n",
    "        for X, y in dataloader:\n",
    "            y_true.extend(list(y))\n",
    "            X, y = X.to(device), y.to(device)\n",
    "            pred = model(X)\n",
    "            test_loss += loss_fn(pred, y).item()\n",
    "            correct += (pred.argmax(1) == y).type(torch.float).sum().item()\n",
    "            pred = pred.argmax(1)\n",
    "            y_pred.extend(list(pred.cpu()))\n",
    "    test_loss /= num_batches\n",
    "    correct /= size\n",
    "    print(f\"Test Error: \\n Accuracy: {(100*correct):>0.1f}%, Avg loss: {test_loss:>8f} \\n\")\n",
    "    with open(log_path, 'a') as f:\n",
    "        f.write('Test f1_score: {:6f} precision: {:6f} recall: {:6f}\\n'.format(f1_score(y_true, y_pred), precision_score(y_true, y_pred), recall_score(y_true, y_pred)))\n",
    "        f.write(f\"Test Error: \\n Accuracy: {(100*correct):>0.2f}%, Avg loss: {test_loss:>8f} \\n\")\n",
    "    print([f1_score(y_true, y_pred),  precision_score(y_true, y_pred), recall_score(y_true, y_pred)])\n",
    "    print(np.sum(y_true), len(y_true)-np.sum(y_true))\n",
    "test_dataset = image_datasets['test']\n",
    "test_dataloader = torch.utils.data.DataLoader(test_dataset, batch_size=32, shuffle=False, num_workers=16)\n",
    "model_ft.load_state_dict(torch.load(save_path))\n",
    "test(test_dataloader, model_ft, criterion)"
   ]
  },
  {
   "cell_type": "code",
   "execution_count": null,
   "id": "cd70b1a0",
   "metadata": {},
   "outputs": [],
   "source": []
  }
 ],
 "metadata": {
  "kernelspec": {
   "display_name": "Python 3 (ipykernel)",
   "language": "python",
   "name": "python3"
  },
  "language_info": {
   "codemirror_mode": {
    "name": "ipython",
    "version": 3
   },
   "file_extension": ".py",
   "mimetype": "text/x-python",
   "name": "python",
   "nbconvert_exporter": "python",
   "pygments_lexer": "ipython3",
   "version": "3.9.7"
  }
 },
 "nbformat": 4,
 "nbformat_minor": 5
}
